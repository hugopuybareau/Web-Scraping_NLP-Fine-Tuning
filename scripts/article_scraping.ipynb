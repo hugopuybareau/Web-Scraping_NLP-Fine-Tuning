{
 "cells": [
  {
   "cell_type": "markdown",
   "metadata": {},
   "source": [
    "# Imports"
   ]
  },
  {
   "cell_type": "code",
   "execution_count": 1,
   "metadata": {},
   "outputs": [
    {
     "name": "stderr",
     "output_type": "stream",
     "text": [
      "/Users/hugopuybareau/Documents/GitHub/LLM_project/LLM_project_env/lib/python3.9/site-packages/urllib3/__init__.py:35: NotOpenSSLWarning: urllib3 v2 only supports OpenSSL 1.1.1+, currently the 'ssl' module is compiled with 'LibreSSL 2.8.3'. See: https://github.com/urllib3/urllib3/issues/3020\n",
      "  warnings.warn(\n"
     ]
    }
   ],
   "source": [
    "import requests\n",
    "import json\n",
    "import pandas as pd\n",
    "import sys\n",
    "from newspaper import Article\n",
    "\n",
    "# Display options\n",
    "sys.displayhook = lambda x: print(json.dumps(x, indent=2)) if isinstance(x, dict) else print(repr(x))\n",
    "\n",
    "# This script will build my database to fine-tune my BART model that generates content from titles. "
   ]
  },
  {
   "cell_type": "markdown",
   "metadata": {},
   "source": [
    "API keys management"
   ]
  },
  {
   "cell_type": "code",
   "execution_count": 2,
   "metadata": {},
   "outputs": [],
   "source": [
    "api_keys = pd.read_excel('../API_Keys.xlsx')\n",
    "key = api_keys.loc[api_keys['API'] == 'News API', 'Key'].values[0] "
   ]
  },
  {
   "cell_type": "markdown",
   "metadata": {},
   "source": [
    "# Data scraping"
   ]
  },
  {
   "cell_type": "code",
   "execution_count": 3,
   "metadata": {},
   "outputs": [],
   "source": [
    "# Scraping function\n",
    "\n",
    "def get_tech_news():\n",
    "    url = (\n",
    "        'https://newsapi.org/v2/top-headlines?'\n",
    "        'category=technology&'\n",
    "        'language=en&'\n",
    "        f'apiKey={key}'\n",
    "    )\n",
    "\n",
    "    response = requests.get(url)\n",
    "\n",
    "    if response.status_code == 200:\n",
    "        # parse answer to json\n",
    "        articles = response.json().get('articles')\n",
    "        return articles\n",
    "    else:\n",
    "        print(f'Error: Unable to fetch articles, status code: {response.status_code}')\n",
    "        return False"
   ]
  },
  {
   "cell_type": "code",
   "execution_count": 4,
   "metadata": {},
   "outputs": [],
   "source": [
    "# The News API does not return complete content from articles so \n",
    "# I have to use newspaper3k to scrape from all the urls without knowing the exact HTML build.\n",
    "\n",
    "def scrape_article_content(url) : \n",
    "    try:\n",
    "        article = Article(url)\n",
    "        article.download()\n",
    "        article.parse()\n",
    "\n",
    "        # Retourner le texte complet de l'article\n",
    "        return article.text\n",
    "    except Exception as e:\n",
    "        print(f\"Error scraping {url}: {e}\")\n",
    "        return False"
   ]
  },
  {
   "cell_type": "code",
   "execution_count": 5,
   "metadata": {},
   "outputs": [
    {
     "name": "stdout",
     "output_type": "stream",
     "text": [
      "Error scraping https://www.forbes.com/sites/zakdoffman/2024/09/25/google-play-store-new-app-warning-for-pixel-9-pro-samsung-galaxy-s24-android/: Article `download()` failed with 403 Client Error: Max restarts limit reached for url: https://www.forbes.com/sites/zakdoffman/2024/09/25/google-play-store-new-app-warning-for-pixel-9-pro-samsung-galaxy-s24-android/ on URL https://www.forbes.com/sites/zakdoffman/2024/09/25/google-play-store-new-app-warning-for-pixel-9-pro-samsung-galaxy-s24-android/\n",
      "Articles retrieved succesfully : 17\n"
     ]
    }
   ],
   "source": [
    "articles_cleaned = []\n",
    "\n",
    "articles = get_tech_news() # Scrape articles from News API\n",
    "\n",
    "if articles :\n",
    "    for article in articles : \n",
    "        url = article.get('url')\n",
    "        title = article.get('title')\n",
    "        full_content = scrape_article_content(url)\n",
    "\n",
    "        if full_content : \n",
    "            articles_cleaned.append(\n",
    "                {\n",
    "                    'title' : title,\n",
    "                    'url' : url,\n",
    "                    'author' : article.get('athor'),\n",
    "                    'full_content' : full_content\n",
    "                }\n",
    "            )\n",
    "        \n",
    "        if not articles_cleaned : \n",
    "            print('No article retrieved')\n",
    "\n",
    "        # if articles_cleaned :\n",
    "        #     for article in articles_cleaned :\n",
    "        #         print('Title :', article['title'])\n",
    "        #         print('URL', article['url'])\n",
    "        #         print('Author', article['author'])\n",
    "        #         print('Content', article['full_content'])\n",
    "        #         print('=' * 80)\n",
    "\n",
    "if articles_cleaned : \n",
    "    print('Articles retrieved succesfully :', len(articles_cleaned))"
   ]
  },
  {
   "cell_type": "markdown",
   "metadata": {},
   "source": [
    "# Export the articles"
   ]
  },
  {
   "cell_type": "code",
   "execution_count": 6,
   "metadata": {},
   "outputs": [],
   "source": [
    "df = pd.DataFrame(articles_cleaned)\n",
    "df.to_csv('../articles/articles_cleaned.csv')"
   ]
  }
 ],
 "metadata": {
  "kernelspec": {
   "display_name": "LLM_project_env",
   "language": "python",
   "name": "python3"
  },
  "language_info": {
   "codemirror_mode": {
    "name": "ipython",
    "version": 3
   },
   "file_extension": ".py",
   "mimetype": "text/x-python",
   "name": "python",
   "nbconvert_exporter": "python",
   "pygments_lexer": "ipython3",
   "version": "3.9.6"
  }
 },
 "nbformat": 4,
 "nbformat_minor": 2
}
